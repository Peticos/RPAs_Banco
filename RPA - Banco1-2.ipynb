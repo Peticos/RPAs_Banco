{
 "cells": [
  {
   "cell_type": "markdown",
   "metadata": {},
   "source": [
    "# <center>Peticos 🐶😺❤️</center>\n",
    "### Dados do Banco do 1° -> Banco do 2°"
   ]
  },
  {
   "cell_type": "markdown",
   "metadata": {},
   "source": [
    "Imports"
   ]
  },
  {
   "cell_type": "code",
   "execution_count": 18,
   "metadata": {},
   "outputs": [],
   "source": [
    "import psycopg2 as pg\n",
    "import os\n",
    "from dotenv import load_dotenv\n",
    "from datetime import datetime\n",
    "import numpy\n",
    "from openpyxl import Workbook, load_workbook"
   ]
  },
  {
   "cell_type": "markdown",
   "metadata": {},
   "source": [
    "Pegando a senha do banco no .env"
   ]
  },
  {
   "cell_type": "code",
   "execution_count": 19,
   "metadata": {},
   "outputs": [],
   "source": [
    "#Pegando a senha do banco:\n",
    "load_dotenv()\n",
    "password = os.getenv('PASSWORD12')"
   ]
  },
  {
   "cell_type": "markdown",
   "metadata": {},
   "source": [
    "Conexão com o Banco do 1°"
   ]
  },
  {
   "cell_type": "code",
   "execution_count": 20,
   "metadata": {},
   "outputs": [],
   "source": [
    "#Conectando com o banco:\n",
    "conn1 = pg.connect(\n",
    "    dbname = \"dbPeticos_1ano\",\n",
    "    user = \"avnadmin\",\n",
    "    password = password,\n",
    "    host = \"db-peticos-cardosogih.k.aivencloud.com\",\n",
    "    port = 16207\n",
    ")\n",
    "cursor1 = conn1.cursor()"
   ]
  },
  {
   "cell_type": "markdown",
   "metadata": {},
   "source": [
    "Conexão com o Banco do 2°"
   ]
  },
  {
   "cell_type": "code",
   "execution_count": 21,
   "metadata": {},
   "outputs": [],
   "source": [
    "#Conectando com o banco:\n",
    "conn2 = pg.connect(\n",
    "    dbname = \"dbPeticos_2ano\",\n",
    "    user = \"avnadmin\",\n",
    "    password = password,\n",
    "    host = \"db-peticos-cardosogih.k.aivencloud.com\",\n",
    "    port = 16207\n",
    ")\n",
    "cursor2 = conn2.cursor()"
   ]
  },
  {
   "cell_type": "markdown",
   "metadata": {},
   "source": [
    "#### Funções:"
   ]
  },
  {
   "cell_type": "markdown",
   "metadata": {},
   "source": [
    "Função para verificar se aconteceu alguma mudança no banco nos últimos 5 min:"
   ]
  },
  {
   "cell_type": "code",
   "execution_count": 34,
   "metadata": {},
   "outputs": [],
   "source": [
    "try:\n",
    "    cursor1.execute(\n",
    "        '''\n",
    "            SELECT column_name, data_type\n",
    "            FROM information_schema.columns\n",
    "            WHERE table_name = 'log_total_1';\n",
    "        '''\n",
    ")\n",
    "    modification_times = cursor1.fetchall()\n",
    "except Exception as e:\n",
    "    cursor1.execute(\"ROLLBACK;\")\n",
    "    print(\"Error occurred:\", e)"
   ]
  },
  {
   "cell_type": "code",
   "execution_count": 35,
   "metadata": {},
   "outputs": [
    {
     "data": {
      "text/plain": [
       "[('alteration_date', 'timestamp without time zone'),\n",
       " ('id', 'integer'),\n",
       " ('table_name', 'character varying'),\n",
       " ('operation', 'character varying'),\n",
       " ('user_', 'character varying')]"
      ]
     },
     "execution_count": 35,
     "metadata": {},
     "output_type": "execute_result"
    }
   ],
   "source": [
    "modification_times"
   ]
  },
  {
   "cell_type": "code",
   "execution_count": 48,
   "metadata": {},
   "outputs": [],
   "source": [
    "#Verificando a diferença de tempo entre a data da modificação e a data de hoje:\n",
    "def diff_5min(data_hora, hoje):\n",
    "    #Formatando novamente as datas:\n",
    "    data_hora = datetime.strptime(data_hora, '%d/%m/%Y %H:%M:%S')\n",
    "    hoje = datetime.strptime(hoje, '%d/%m/%Y %H:%M:%S')\n",
    "\n",
    "    #Pegando a diferença em minutos:\n",
    "    diff = (hoje - data_hora).total_seconds() // 60\n",
    "\n",
    "    #Caso a diferença for menor ou igual a 5 min, retorna 1:\n",
    "    if diff <= 5 and diff > 0:\n",
    "        return 1\n",
    "    \n",
    "    #Caso não há nenhuma mudança nos últimos 5 min retorna 0:\n",
    "    return 0"
   ]
  },
  {
   "cell_type": "markdown",
   "metadata": {},
   "source": [
    "### Funções de CRUD:"
   ]
  },
  {
   "cell_type": "markdown",
   "metadata": {},
   "source": [
    "Insert:"
   ]
  },
  {
   "cell_type": "code",
   "execution_count": null,
   "metadata": {},
   "outputs": [],
   "source": [
    "#Função para passar chamar as procedures de insert correta de acordo com a tabela que precisa ter inserção:\n",
    "def insert(table_name_1, id_1, table_name_2, id):\n",
    "    #Explicando cada um dos parametros que devem ser passados:\n",
    "    '''\n",
    "    - table_name_1 = nome da tabela do primeiro ano\n",
    "    - id_1 = nome da coluna do id/pk na tabela do primeiro ano\n",
    "    - table_name_2 = nome da tabela do segundo ano\n",
    "    - id = id que foi inserido na tabela do primeiro ano\n",
    "    '''\n",
    "    #Trazendo o valor que precisa ser inserido de acordo com um certo id:\n",
    "    cursor1.execute(\"SELECT * FROM %s WHERE %s = %s\", (table_name_1, id_1, id))\n",
    "    tabela = cursor1.fetchall()\n",
    "\n",
    "    #Verificando em qual tabela deve ocorrer o insert:\n",
    "    if table_name_2 == 'admin':\n",
    "        #Inserindo os novos dados na tabela de admin:\n",
    "        cursor2.execute(\"INSERT INTO admin (id, name, email, password) VALUES(%s, %s, %s, %s)\", (tabela[0], tabela[1], tabela[2], tabela[3]))\n",
    "    elif table_name_2 == '':\n",
    "        cursor2.execute('')\n"
   ]
  },
  {
   "cell_type": "markdown",
   "metadata": {},
   "source": [
    "Update: "
   ]
  },
  {
   "cell_type": "code",
   "execution_count": 51,
   "metadata": {},
   "outputs": [],
   "source": [
    "#Função para chamar as procedures de update corretas para cada tabela:\n",
    "def insert(table_name_1, id_1, table_name_2, id_2, id):\n",
    "    #Explicando cada um dos parametros que devem ser passados:\n",
    "    '''\n",
    "    - table_name_1 = nome da tabela do primeiro ano\n",
    "    - id_1 = nome da coluna do id/pk na tabela do primeiro ano\n",
    "    - table_name_2 = nome da tabela do segundo ano\n",
    "    - id_2 = nome da coluna de id/pk na tabela do segundo ano\n",
    "    - id = id que foi alterado na tabela do primeiro ano\n",
    "    '''\n",
    "    #Trazendo o valor que precisa ser inserido de acordo com um certo id:\n",
    "    cursor1.execute(\"SELECT * FROM admin.administradores WHERE %s = %s\", (id_1, id))\n",
    "    tabela = cursor1.fetchall()\n",
    "\n",
    "    #Verificando em qual tabela deve ocorrer o insert:\n",
    "    if table_name_2 == 'admin':\n",
    "        #Inserindo os novos dados na tabela de admin:\n",
    "        cursor2.execute(\"UPDATE admin.administradores SET name = %s, email = %s, password = %s WHERE %s = %s\", (tabela[1], tabela[2], tabela[3], id_2, id))\n",
    "    elif table_name_2 == '':\n",
    "        cursor2.execute('')"
   ]
  },
  {
   "cell_type": "markdown",
   "metadata": {},
   "source": [
    "Delete:"
   ]
  },
  {
   "cell_type": "markdown",
   "metadata": {},
   "source": [
    "#### Pegando os dados do banco do 1° ano e atualizando no banco do 2° ano:"
   ]
  },
  {
   "cell_type": "code",
   "execution_count": null,
   "metadata": {},
   "outputs": [
    {
     "name": "stdout",
     "output_type": "stream",
     "text": [
      "administradores\n",
      "Nenhuma mudança aconteceu nos últimos 5 minutos\n",
      "Nenhuma mudança aconteceu nos últimos 5 minutos\n",
      "Nenhuma mudança aconteceu nos últimos 5 minutos\n",
      "Nenhuma mudança aconteceu nos últimos 5 minutos\n",
      "Nenhuma mudança aconteceu nos últimos 5 minutos\n",
      "Nenhuma mudança aconteceu nos últimos 5 minutos\n",
      "dica_do_dia\n",
      "Nenhuma mudança aconteceu nos últimos 5 minutos\n",
      "Nenhuma mudança aconteceu nos últimos 5 minutos\n",
      "Nenhuma mudança aconteceu nos últimos 5 minutos\n",
      "Nenhuma mudança aconteceu nos últimos 5 minutos\n",
      "endereco\n",
      "Não há nenhuma dado dessa tabela!\n",
      "local\n",
      "Nenhuma mudança aconteceu nos últimos 5 minutos\n",
      "Nenhuma mudança aconteceu nos últimos 5 minutos\n",
      "Nenhuma mudança aconteceu nos últimos 5 minutos\n",
      "Nenhuma mudança aconteceu nos últimos 5 minutos\n",
      "Nenhuma mudança aconteceu nos últimos 5 minutos\n",
      "Nenhuma mudança aconteceu nos últimos 5 minutos\n",
      "Nenhuma mudança aconteceu nos últimos 5 minutos\n",
      "Nenhuma mudança aconteceu nos últimos 5 minutos\n",
      "Nenhuma mudança aconteceu nos últimos 5 minutos\n",
      "Nenhuma mudança aconteceu nos últimos 5 minutos\n",
      "Nenhuma mudança aconteceu nos últimos 5 minutos\n",
      "Nenhuma mudança aconteceu nos últimos 5 minutos\n",
      "Nenhuma mudança aconteceu nos últimos 5 minutos\n",
      "Nenhuma mudança aconteceu nos últimos 5 minutos\n",
      "Nenhuma mudança aconteceu nos últimos 5 minutos\n",
      "Nenhuma mudança aconteceu nos últimos 5 minutos\n",
      "Nenhuma mudança aconteceu nos últimos 5 minutos\n",
      "Nenhuma mudança aconteceu nos últimos 5 minutos\n",
      "Nenhuma mudança aconteceu nos últimos 5 minutos\n",
      "Nenhuma mudança aconteceu nos últimos 5 minutos\n",
      "Nenhuma mudança aconteceu nos últimos 5 minutos\n",
      "Nenhuma mudança aconteceu nos últimos 5 minutos\n",
      "Nenhuma mudança aconteceu nos últimos 5 minutos\n",
      "Nenhuma mudança aconteceu nos últimos 5 minutos\n",
      "Nenhuma mudança aconteceu nos últimos 5 minutos\n",
      "Nenhuma mudança aconteceu nos últimos 5 minutos\n",
      "Nenhuma mudança aconteceu nos últimos 5 minutos\n",
      "Nenhuma mudança aconteceu nos últimos 5 minutos\n",
      "Nenhuma mudança aconteceu nos últimos 5 minutos\n",
      "Nenhuma mudança aconteceu nos últimos 5 minutos\n",
      "Nenhuma mudança aconteceu nos últimos 5 minutos\n",
      "Nenhuma mudança aconteceu nos últimos 5 minutos\n",
      "Nenhuma mudança aconteceu nos últimos 5 minutos\n",
      "Nenhuma mudança aconteceu nos últimos 5 minutos\n",
      "Nenhuma mudança aconteceu nos últimos 5 minutos\n",
      "Nenhuma mudança aconteceu nos últimos 5 minutos\n",
      "telefone_local\n",
      "Nenhuma mudança aconteceu nos últimos 5 minutos\n",
      "Nenhuma mudança aconteceu nos últimos 5 minutos\n",
      "Nenhuma mudança aconteceu nos últimos 5 minutos\n",
      "Nenhuma mudança aconteceu nos últimos 5 minutos\n",
      "Nenhuma mudança aconteceu nos últimos 5 minutos\n",
      "Nenhuma mudança aconteceu nos últimos 5 minutos\n",
      "Nenhuma mudança aconteceu nos últimos 5 minutos\n",
      "Nenhuma mudança aconteceu nos últimos 5 minutos\n",
      "Nenhuma mudança aconteceu nos últimos 5 minutos\n",
      "Nenhuma mudança aconteceu nos últimos 5 minutos\n",
      "Nenhuma mudança aconteceu nos últimos 5 minutos\n",
      "Nenhuma mudança aconteceu nos últimos 5 minutos\n",
      "Nenhuma mudança aconteceu nos últimos 5 minutos\n",
      "Nenhuma mudança aconteceu nos últimos 5 minutos\n",
      "Nenhuma mudança aconteceu nos últimos 5 minutos\n",
      "Nenhuma mudança aconteceu nos últimos 5 minutos\n",
      "raca\n",
      "Nenhuma mudança aconteceu nos últimos 5 minutos\n",
      "Nenhuma mudança aconteceu nos últimos 5 minutos\n",
      "Nenhuma mudança aconteceu nos últimos 5 minutos\n",
      "Nenhuma mudança aconteceu nos últimos 5 minutos\n",
      "Nenhuma mudança aconteceu nos últimos 5 minutos\n",
      "especie\n",
      "Não há nenhuma dado dessa tabela!\n"
     ]
    }
   ],
   "source": [
    "#Nome das tabelas e ids/pks do banco do 1° ano:\n",
    "dict_tabelas_1 = {'administradores': 'id',\n",
    "                'dica_do_dia': 'id_dica',\n",
    "                'endereco': 'id_endereco',\n",
    "                'local': 'id_local',\n",
    "                'telefone_local': 'id_telefone_local',\n",
    "                'raca': 'id_raca',\n",
    "                'especie': 'id_especie'}\n",
    "\n",
    "#Nomes das tabelas e ids/pks do banco do 2° ano:\n",
    "dict_tabelas_2 = {'admin': 'id_admin',\n",
    "                'day_hint': 'id_hint',\n",
    "                'address': 'id_address',\n",
    "                'locations': 'id_local',\n",
    "                'local_phone': 'id_local_phone',\n",
    "                'race': 'id_race',\n",
    "                'specie': 'id_specie'}\n",
    "\n",
    "#Armazenando a data atual, com a formatação correta:\n",
    "hoje = datetime.now().strftime('%d/%m/%Y %H:%M:%S')\n",
    "\n",
    "#Indice para verificar as chaves e valores do dicionário das tabelas e ids/pks do segundo ano:\n",
    "index = 0\n",
    "\n",
    "#For para verificar se houve modificação em alguma das tabelas da lista \"tabelas_1\":\n",
    "for i in dict_tabelas_1:\n",
    "    #Pegando o campo de hora para verificar se ocorreu alguma modificação nos últimos 5 minutos em um tabela especifica:\n",
    "    cursor1.execute(\"SELECT alteration_date FROM log_total_1 WHERE table_name = %s\", (i, ))\n",
    "    data_hora = cursor1.fetchall()\n",
    "\n",
    "    #Verificando se a tabela está vazia:\n",
    "    if data_hora != []:\n",
    "        for d in data_hora:\n",
    "            #Formatando a data:\n",
    "            data_hora_formatada = d[0].strftime('%d/%m/%Y %H:%M:%S')\n",
    "            \n",
    "            #Utilizando função diff_5min para verificar se ocorreu alguma mudança no banco nos últimos 5 minutos, caso ocorra alguma mudança a função retornará 1, caso não haja, retornará 0:\n",
    "            diff = diff_5min(data_hora_formatada, hoje)\n",
    "\n",
    "            #Verificando se o retorno da função foi 1 ou 0:\n",
    "            #Caso o retorno tenha sido 1 as funções de insert, update ou delete, serão chamadas de acordo com a operação que foi feita nessa linha:\n",
    "            if diff == 1:\n",
    "                #Verificando qual foi a operação feita e o id que foi adicionado, modificado ou excluído:\n",
    "                cursor1.execute(\"SELECT operation, id FROM log_total_1\")\n",
    "                operacao = cursor1.fetchall()\n",
    "\n",
    "                #Verificanso qual operação foi feita\n",
    "                if operacao[0] == 'INSERT':\n",
    "                    #Chamando a função de insert:\n",
    "                    insert(i, dict_tabelas_1[i], dict_tabelas_2.keys()[index], id)\n",
    "                # elif operacao[0] == 'DELETE':\n",
    "                #     #Chamando a função de delete:\n",
    "                #     delete(tabelas_2[j], id)\n",
    "                # else:\n",
    "                #     #Chamando a função de update:\n",
    "                #     update(i, tabelas_2[j]\n",
    "            else:\n",
    "                #Apresentando a mensagem caso não haja o que modificar:\n",
    "                print('Nenhuma mudança aconteceu nos últimos 5 minutos')\n",
    "        \n",
    "            #Adicionando +1 no indice:\n",
    "            index+=1\n",
    "    else:\n",
    "        #Apresentando a mensagem caso a tabela esteja vazia:\n",
    "        print('Não há nenhuma dado dessa tabela!')"
   ]
  },
  {
   "cell_type": "code",
   "execution_count": 1,
   "metadata": {},
   "outputs": [],
   "source": [
    "ids_1 = {'administradores': 'id', 'dica_do_dia': 'id_dica', 'endereco': 'id_endereco', 'local': 'id_local', 'telefone_local': 'id_telefone_local', 'raca': 'id_raca', 'especie': 'id_especie'}\n",
    "ids_2 = {'admin': 'id_admin', 'day_hint': 'id_hint', 'address': 'id_address', 'locations': 'id_local', 'local_phone': 'id_local_phone', 'race': 'id_race', 'specie': 'id_specie'}"
   ]
  },
  {
   "cell_type": "code",
   "execution_count": 10,
   "metadata": {},
   "outputs": [
    {
     "data": {
      "text/plain": [
       "['administradores',\n",
       " 'dica_do_dia',\n",
       " 'endereco',\n",
       " 'local',\n",
       " 'telefone_local',\n",
       " 'raca',\n",
       " 'especie']"
      ]
     },
     "execution_count": 10,
     "metadata": {},
     "output_type": "execute_result"
    }
   ],
   "source": [
    "list(ids_1.keys())"
   ]
  },
  {
   "cell_type": "code",
   "execution_count": 11,
   "metadata": {},
   "outputs": [
    {
     "data": {
      "text/plain": [
       "{'administradores': 'admin',\n",
       " 'dica_do_dia': 'day_hint',\n",
       " 'endereco': 'address',\n",
       " 'local': 'locations',\n",
       " 'telefone_local': 'local_phone',\n",
       " 'raca': 'race',\n",
       " 'especie': 'specie'}"
      ]
     },
     "execution_count": 11,
     "metadata": {},
     "output_type": "execute_result"
    }
   ],
   "source": [
    "dicio = {}\n",
    "for i in range(len(ids_1.keys())):\n",
    "    dicio[list(ids_1.keys())[i]] = list(ids_2.keys())[i]\n",
    "dicio"
   ]
  },
  {
   "cell_type": "code",
   "execution_count": null,
   "metadata": {},
   "outputs": [],
   "source": [
    "# cursor1.execute(\"SELECT * FROM local ORDER BY id_local\")\n",
    "# tabela = cursor1.fetchall()\n",
    "\n",
    "# print(tabela)\n",
    "\n",
    "# #print(tabela)\n",
    "# try:\n",
    "#     for i in tabela:\n",
    "#         cursor2.execute(\"INSERT INTO locations (id_admin, name, email, password) VALUES(%s, %s, %s, %s)\", (i[0],i[1], i[2], i[3]))\n",
    "#         conn2.commit()\n",
    "\n",
    "# except Exception as e:\n",
    "#     print(f\"Ocorreu um erro: {i}\", e)\n",
    "#     conn2.rollback()"
   ]
  },
  {
   "cell_type": "code",
   "execution_count": null,
   "metadata": {},
   "outputs": [],
   "source": [
    "# name_excel = '../BI/Dados/Endereco.xlsx'\n",
    "\n",
    "# #Verificando se existe o excel existe:\n",
    "# if os.path.exists(name_excel):\n",
    "#     # Carrega um arquivo Excel:\n",
    "#     workbook = load_workbook(name_excel)\n",
    "\n",
    "#     # Abrindo uma planilha Excel:\n",
    "#     excel = workbook.active\n",
    "#     excel = workbook.create_sheet('Endereço')\n",
    "\n",
    "#     #Adicionando mais valores ao excel:\n",
    "#     for i in tabela:\n",
    "#         add = [i[0], i[1], i[2], i[3]]\n",
    "#         excel.append(add)\n",
    "\n",
    "#     #Salvando o arquivo:\n",
    "#     workbook.save(name_excel)\n",
    "# else:\n",
    "#     #Adicionando mais valores ao excel:\n",
    "#     for i in tabela:\n",
    "#         add_dolar = [i[0], i[1], i[2], i[3]]"
   ]
  }
 ],
 "metadata": {
  "kernelspec": {
   "display_name": "Python 3",
   "language": "python",
   "name": "python3"
  },
  "language_info": {
   "codemirror_mode": {
    "name": "ipython",
    "version": 3
   },
   "file_extension": ".py",
   "mimetype": "text/x-python",
   "name": "python",
   "nbconvert_exporter": "python",
   "pygments_lexer": "ipython3",
   "version": "3.11.4"
  }
 },
 "nbformat": 4,
 "nbformat_minor": 2
}
